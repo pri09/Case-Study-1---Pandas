{
 "cells": [
  {
   "cell_type": "code",
   "execution_count": 42,
   "metadata": {},
   "outputs": [],
   "source": [
    "import pandas as pd\n",
    "import numpy as np"
   ]
  },
  {
   "cell_type": "markdown",
   "metadata": {},
   "source": [
    "1. Import the customer data into python."
   ]
  },
  {
   "cell_type": "code",
   "execution_count": 43,
   "metadata": {},
   "outputs": [],
   "source": [
    "customer = pd.read_csv('C:/Users/hp/Desktop/IM ML OJT/Week 1/Task 2/Customers.csv',encoding='latin1')"
   ]
  },
  {
   "cell_type": "markdown",
   "metadata": {},
   "source": [
    "2. Understand the data using different functions and attributes like shape, index, columns, dtypes.ndim, info(), get_dtype_counts etc."
   ]
  },
  {
   "cell_type": "code",
   "execution_count": 44,
   "metadata": {},
   "outputs": [
    {
     "data": {
      "text/html": [
       "<div>\n",
       "<style scoped>\n",
       "    .dataframe tbody tr th:only-of-type {\n",
       "        vertical-align: middle;\n",
       "    }\n",
       "\n",
       "    .dataframe tbody tr th {\n",
       "        vertical-align: top;\n",
       "    }\n",
       "\n",
       "    .dataframe thead th {\n",
       "        text-align: right;\n",
       "    }\n",
       "</style>\n",
       "<table border=\"1\" class=\"dataframe\">\n",
       "  <thead>\n",
       "    <tr style=\"text-align: right;\">\n",
       "      <th></th>\n",
       "      <th>Customer_ID</th>\n",
       "      <th>Gender</th>\n",
       "      <th>First_Date</th>\n",
       "      <th>First_region</th>\n",
       "      <th>First_state</th>\n",
       "      <th>First_city</th>\n",
       "      <th>Recent_Date</th>\n",
       "      <th>Last_region</th>\n",
       "      <th>Last_state</th>\n",
       "      <th>Last_city</th>\n",
       "      <th>Customer_Value</th>\n",
       "      <th>Buy_Times</th>\n",
       "      <th>Points_Earned</th>\n",
       "      <th>Points_Redeemed</th>\n",
       "    </tr>\n",
       "  </thead>\n",
       "  <tbody>\n",
       "    <tr>\n",
       "      <th>0</th>\n",
       "      <td>129609144</td>\n",
       "      <td>M</td>\n",
       "      <td>20130130</td>\n",
       "      <td>West</td>\n",
       "      <td>Gujarat</td>\n",
       "      <td>Surat</td>\n",
       "      <td>20130216</td>\n",
       "      <td>West</td>\n",
       "      <td>Gujarat</td>\n",
       "      <td>Surat</td>\n",
       "      <td>2032.0</td>\n",
       "      <td>2</td>\n",
       "      <td>200.0</td>\n",
       "      <td>0.0</td>\n",
       "    </tr>\n",
       "    <tr>\n",
       "      <th>1</th>\n",
       "      <td>129627580</td>\n",
       "      <td>M</td>\n",
       "      <td>20130129</td>\n",
       "      <td>North</td>\n",
       "      <td>Delhi</td>\n",
       "      <td>Delhi</td>\n",
       "      <td>20130129</td>\n",
       "      <td>North</td>\n",
       "      <td>Delhi</td>\n",
       "      <td>Delhi</td>\n",
       "      <td>1709.0</td>\n",
       "      <td>1</td>\n",
       "      <td>100.0</td>\n",
       "      <td>0.0</td>\n",
       "    </tr>\n",
       "    <tr>\n",
       "      <th>2</th>\n",
       "      <td>130363481</td>\n",
       "      <td>M</td>\n",
       "      <td>20130221</td>\n",
       "      <td>West</td>\n",
       "      <td>Gujarat</td>\n",
       "      <td>Surat</td>\n",
       "      <td>20130221</td>\n",
       "      <td>West</td>\n",
       "      <td>Gujarat</td>\n",
       "      <td>Surat</td>\n",
       "      <td>523.0</td>\n",
       "      <td>1</td>\n",
       "      <td>10.0</td>\n",
       "      <td>0.0</td>\n",
       "    </tr>\n",
       "    <tr>\n",
       "      <th>3</th>\n",
       "      <td>49817480</td>\n",
       "      <td>M</td>\n",
       "      <td>20130222</td>\n",
       "      <td>West</td>\n",
       "      <td>Maharashtra</td>\n",
       "      <td>Pimpri-Chinchwad</td>\n",
       "      <td>20130222</td>\n",
       "      <td>West</td>\n",
       "      <td>Maharashtra</td>\n",
       "      <td>Pimpri-Chinchwad</td>\n",
       "      <td>5132.0</td>\n",
       "      <td>1</td>\n",
       "      <td>170.0</td>\n",
       "      <td>0.0</td>\n",
       "    </tr>\n",
       "    <tr>\n",
       "      <th>4</th>\n",
       "      <td>126343829</td>\n",
       "      <td>F</td>\n",
       "      <td>20130301</td>\n",
       "      <td>North</td>\n",
       "      <td>Delhi</td>\n",
       "      <td>Delhi</td>\n",
       "      <td>20130301</td>\n",
       "      <td>North</td>\n",
       "      <td>Delhi</td>\n",
       "      <td>Delhi</td>\n",
       "      <td>1008.0</td>\n",
       "      <td>1</td>\n",
       "      <td>60.0</td>\n",
       "      <td>0.0</td>\n",
       "    </tr>\n",
       "  </tbody>\n",
       "</table>\n",
       "</div>"
      ],
      "text/plain": [
       "   Customer_ID Gender  First_Date First_region  First_state        First_city  \\\n",
       "0    129609144      M    20130130         West      Gujarat             Surat   \n",
       "1    129627580      M    20130129        North        Delhi             Delhi   \n",
       "2    130363481      M    20130221         West      Gujarat             Surat   \n",
       "3     49817480      M    20130222         West  Maharashtra  Pimpri-Chinchwad   \n",
       "4    126343829      F    20130301        North        Delhi             Delhi   \n",
       "\n",
       "   Recent_Date Last_region   Last_state         Last_city  Customer_Value  \\\n",
       "0     20130216        West      Gujarat             Surat          2032.0   \n",
       "1     20130129       North        Delhi             Delhi          1709.0   \n",
       "2     20130221        West      Gujarat             Surat           523.0   \n",
       "3     20130222        West  Maharashtra  Pimpri-Chinchwad          5132.0   \n",
       "4     20130301       North        Delhi             Delhi          1008.0   \n",
       "\n",
       "   Buy_Times  Points_Earned  Points_Redeemed  \n",
       "0          2          200.0              0.0  \n",
       "1          1          100.0              0.0  \n",
       "2          1           10.0              0.0  \n",
       "3          1          170.0              0.0  \n",
       "4          1           60.0              0.0  "
      ]
     },
     "execution_count": 44,
     "metadata": {},
     "output_type": "execute_result"
    }
   ],
   "source": [
    "customer.head()"
   ]
  },
  {
   "cell_type": "code",
   "execution_count": 45,
   "metadata": {},
   "outputs": [
    {
     "data": {
      "text/plain": [
       "(10000, 14)"
      ]
     },
     "execution_count": 45,
     "metadata": {},
     "output_type": "execute_result"
    }
   ],
   "source": [
    "customer.shape"
   ]
  },
  {
   "cell_type": "code",
   "execution_count": 55,
   "metadata": {},
   "outputs": [
    {
     "data": {
      "text/plain": [
       "10000"
      ]
     },
     "execution_count": 55,
     "metadata": {},
     "output_type": "execute_result"
    }
   ],
   "source": [
    "customer.shape[0]"
   ]
  },
  {
   "cell_type": "code",
   "execution_count": 56,
   "metadata": {},
   "outputs": [
    {
     "data": {
      "text/plain": [
       "14"
      ]
     },
     "execution_count": 56,
     "metadata": {},
     "output_type": "execute_result"
    }
   ],
   "source": [
    "customer.shape[1]"
   ]
  },
  {
   "cell_type": "code",
   "execution_count": 57,
   "metadata": {},
   "outputs": [
    {
     "data": {
      "text/plain": [
       "RangeIndex(start=0, stop=10000, step=1)"
      ]
     },
     "execution_count": 57,
     "metadata": {},
     "output_type": "execute_result"
    }
   ],
   "source": [
    "customer.index"
   ]
  },
  {
   "cell_type": "code",
   "execution_count": 58,
   "metadata": {},
   "outputs": [
    {
     "data": {
      "text/plain": [
       "Index(['Customer_ID', 'Gender', 'First_Date', 'First_region', 'First_state',\n",
       "       'First_city', 'Recent_Date', 'Last_region', 'Last_state', 'Last_city',\n",
       "       'Customer_Value', 'Buy_Times', 'Points_Earned', 'Points_Redeemed'],\n",
       "      dtype='object')"
      ]
     },
     "execution_count": 58,
     "metadata": {},
     "output_type": "execute_result"
    }
   ],
   "source": [
    "customer.columns"
   ]
  },
  {
   "cell_type": "code",
   "execution_count": 59,
   "metadata": {},
   "outputs": [
    {
     "data": {
      "text/plain": [
       "Customer_ID          int64\n",
       "Gender              object\n",
       "First_Date           int64\n",
       "First_region        object\n",
       "First_state         object\n",
       "First_city          object\n",
       "Recent_Date          int64\n",
       "Last_region         object\n",
       "Last_state          object\n",
       "Last_city           object\n",
       "Customer_Value     float64\n",
       "Buy_Times            int64\n",
       "Points_Earned      float64\n",
       "Points_Redeemed    float64\n",
       "dtype: object"
      ]
     },
     "execution_count": 59,
     "metadata": {},
     "output_type": "execute_result"
    }
   ],
   "source": [
    "customer.dtypes"
   ]
  },
  {
   "cell_type": "code",
   "execution_count": 60,
   "metadata": {},
   "outputs": [
    {
     "data": {
      "text/plain": [
       "2"
      ]
     },
     "execution_count": 60,
     "metadata": {},
     "output_type": "execute_result"
    }
   ],
   "source": [
    "customer.ndim"
   ]
  },
  {
   "cell_type": "code",
   "execution_count": 61,
   "metadata": {},
   "outputs": [
    {
     "name": "stdout",
     "output_type": "stream",
     "text": [
      "<class 'pandas.core.frame.DataFrame'>\n",
      "RangeIndex: 10000 entries, 0 to 9999\n",
      "Data columns (total 14 columns):\n",
      " #   Column           Non-Null Count  Dtype  \n",
      "---  ------           --------------  -----  \n",
      " 0   Customer_ID      10000 non-null  int64  \n",
      " 1   Gender           9986 non-null   object \n",
      " 2   First_Date       10000 non-null  int64  \n",
      " 3   First_region     9979 non-null   object \n",
      " 4   First_state      9983 non-null   object \n",
      " 5   First_city       10000 non-null  object \n",
      " 6   Recent_Date      10000 non-null  int64  \n",
      " 7   Last_region      10000 non-null  object \n",
      " 8   Last_state       10000 non-null  object \n",
      " 9   Last_city        10000 non-null  object \n",
      " 10  Customer_Value   9964 non-null   float64\n",
      " 11  Buy_Times        10000 non-null  int64  \n",
      " 12  Points_Earned    9979 non-null   float64\n",
      " 13  Points_Redeemed  9988 non-null   float64\n",
      "dtypes: float64(3), int64(4), object(7)\n",
      "memory usage: 1.1+ MB\n"
     ]
    }
   ],
   "source": [
    "customer.info()"
   ]
  },
  {
   "cell_type": "code",
   "execution_count": 62,
   "metadata": {},
   "outputs": [
    {
     "data": {
      "text/plain": [
       "object     7\n",
       "int64      4\n",
       "float64    3\n",
       "dtype: int64"
      ]
     },
     "execution_count": 62,
     "metadata": {},
     "output_type": "execute_result"
    }
   ],
   "source": [
    "customer.dtypes.value_counts()"
   ]
  },
  {
   "cell_type": "code",
   "execution_count": 63,
   "metadata": {},
   "outputs": [
    {
     "data": {
      "text/plain": [
       "Customer_ID        10000\n",
       "Gender              9986\n",
       "First_Date         10000\n",
       "First_region        9979\n",
       "First_state         9983\n",
       "First_city         10000\n",
       "Recent_Date        10000\n",
       "Last_region        10000\n",
       "Last_state         10000\n",
       "Last_city          10000\n",
       "Customer_Value      9964\n",
       "Buy_Times          10000\n",
       "Points_Earned       9979\n",
       "Points_Redeemed     9988\n",
       "dtype: int64"
      ]
     },
     "execution_count": 63,
     "metadata": {},
     "output_type": "execute_result"
    }
   ],
   "source": [
    "customer.count()"
   ]
  },
  {
   "cell_type": "markdown",
   "metadata": {},
   "source": [
    "3. What is percentage of missing values for customer Value variable?"
   ]
  },
  {
   "cell_type": "code",
   "execution_count": 64,
   "metadata": {},
   "outputs": [
    {
     "data": {
      "text/plain": [
       "36"
      ]
     },
     "execution_count": 64,
     "metadata": {},
     "output_type": "execute_result"
    }
   ],
   "source": [
    "customer['Customer_Value'].isnull().sum()"
   ]
  },
  {
   "cell_type": "code",
   "execution_count": 65,
   "metadata": {},
   "outputs": [
    {
     "data": {
      "text/plain": [
       "10000"
      ]
     },
     "execution_count": 65,
     "metadata": {},
     "output_type": "execute_result"
    }
   ],
   "source": [
    "customer.shape[0]"
   ]
  },
  {
   "cell_type": "code",
   "execution_count": 66,
   "metadata": {},
   "outputs": [
    {
     "data": {
      "text/plain": [
       "0.0036"
      ]
     },
     "execution_count": 66,
     "metadata": {},
     "output_type": "execute_result"
    }
   ],
   "source": [
    "customer['Customer_Value'].isnull().sum()/customer.shape[0]"
   ]
  },
  {
   "cell_type": "code",
   "execution_count": 67,
   "metadata": {},
   "outputs": [
    {
     "data": {
      "text/plain": [
       "0.36"
      ]
     },
     "execution_count": 67,
     "metadata": {},
     "output_type": "execute_result"
    }
   ],
   "source": [
    "round(((customer['Customer_Value'].isnull().sum()/customer.shape[0])*100),3)"
   ]
  },
  {
   "cell_type": "markdown",
   "metadata": {},
   "source": [
    "4. Create two subsets with unique and duplicate values."
   ]
  },
  {
   "cell_type": "code",
   "execution_count": 68,
   "metadata": {},
   "outputs": [
    {
     "data": {
      "text/plain": [
       "45"
      ]
     },
     "execution_count": 68,
     "metadata": {},
     "output_type": "execute_result"
    }
   ],
   "source": [
    "customer['Customer_ID'].duplicated().sum()"
   ]
  },
  {
   "cell_type": "code",
   "execution_count": 69,
   "metadata": {},
   "outputs": [
    {
     "data": {
      "text/html": [
       "<div>\n",
       "<style scoped>\n",
       "    .dataframe tbody tr th:only-of-type {\n",
       "        vertical-align: middle;\n",
       "    }\n",
       "\n",
       "    .dataframe tbody tr th {\n",
       "        vertical-align: top;\n",
       "    }\n",
       "\n",
       "    .dataframe thead th {\n",
       "        text-align: right;\n",
       "    }\n",
       "</style>\n",
       "<table border=\"1\" class=\"dataframe\">\n",
       "  <thead>\n",
       "    <tr style=\"text-align: right;\">\n",
       "      <th></th>\n",
       "      <th>Customer_ID</th>\n",
       "      <th>Gender</th>\n",
       "      <th>First_Date</th>\n",
       "      <th>First_region</th>\n",
       "      <th>First_state</th>\n",
       "      <th>First_city</th>\n",
       "      <th>Recent_Date</th>\n",
       "      <th>Last_region</th>\n",
       "      <th>Last_state</th>\n",
       "      <th>Last_city</th>\n",
       "      <th>Customer_Value</th>\n",
       "      <th>Buy_Times</th>\n",
       "      <th>Points_Earned</th>\n",
       "      <th>Points_Redeemed</th>\n",
       "    </tr>\n",
       "  </thead>\n",
       "  <tbody>\n",
       "    <tr>\n",
       "      <th>9817</th>\n",
       "      <td>113918804</td>\n",
       "      <td>M</td>\n",
       "      <td>20120226</td>\n",
       "      <td>West</td>\n",
       "      <td>Gujarat</td>\n",
       "      <td>Ahmedabad</td>\n",
       "      <td>20120712</td>\n",
       "      <td>West</td>\n",
       "      <td>Gujarat</td>\n",
       "      <td>Ahmedabad</td>\n",
       "      <td>7048.800</td>\n",
       "      <td>6</td>\n",
       "      <td>282.0</td>\n",
       "      <td>0.0</td>\n",
       "    </tr>\n",
       "    <tr>\n",
       "      <th>9818</th>\n",
       "      <td>113933467</td>\n",
       "      <td>F</td>\n",
       "      <td>20120226</td>\n",
       "      <td>South</td>\n",
       "      <td>Tamil Nadu</td>\n",
       "      <td>Chennai</td>\n",
       "      <td>20130312</td>\n",
       "      <td>East</td>\n",
       "      <td>Bihar</td>\n",
       "      <td>Patna</td>\n",
       "      <td>68863.601</td>\n",
       "      <td>19</td>\n",
       "      <td>3374.0</td>\n",
       "      <td>0.0</td>\n",
       "    </tr>\n",
       "    <tr>\n",
       "      <th>9819</th>\n",
       "      <td>41337621</td>\n",
       "      <td>F</td>\n",
       "      <td>20120228</td>\n",
       "      <td>West</td>\n",
       "      <td>Gujarat</td>\n",
       "      <td>Surat</td>\n",
       "      <td>20130207</td>\n",
       "      <td>West</td>\n",
       "      <td>Gujarat</td>\n",
       "      <td>Surat</td>\n",
       "      <td>7036.001</td>\n",
       "      <td>6</td>\n",
       "      <td>635.0</td>\n",
       "      <td>0.0</td>\n",
       "    </tr>\n",
       "    <tr>\n",
       "      <th>9820</th>\n",
       "      <td>6896372</td>\n",
       "      <td>M</td>\n",
       "      <td>20120228</td>\n",
       "      <td>West</td>\n",
       "      <td>Maharashtra</td>\n",
       "      <td>Nashik</td>\n",
       "      <td>20120228</td>\n",
       "      <td>West</td>\n",
       "      <td>Maharashtra</td>\n",
       "      <td>Nashik</td>\n",
       "      <td>1259.000</td>\n",
       "      <td>1</td>\n",
       "      <td>70.0</td>\n",
       "      <td>0.0</td>\n",
       "    </tr>\n",
       "    <tr>\n",
       "      <th>9821</th>\n",
       "      <td>114142599</td>\n",
       "      <td>M</td>\n",
       "      <td>20120303</td>\n",
       "      <td>West</td>\n",
       "      <td>Gujarat</td>\n",
       "      <td>Surat</td>\n",
       "      <td>20130205</td>\n",
       "      <td>West</td>\n",
       "      <td>Gujarat</td>\n",
       "      <td>Surat</td>\n",
       "      <td>19136.096</td>\n",
       "      <td>13</td>\n",
       "      <td>986.0</td>\n",
       "      <td>0.0</td>\n",
       "    </tr>\n",
       "  </tbody>\n",
       "</table>\n",
       "</div>"
      ],
      "text/plain": [
       "      Customer_ID Gender  First_Date First_region  First_state First_city  \\\n",
       "9817    113918804      M    20120226         West      Gujarat  Ahmedabad   \n",
       "9818    113933467      F    20120226        South   Tamil Nadu    Chennai   \n",
       "9819     41337621      F    20120228         West      Gujarat      Surat   \n",
       "9820      6896372      M    20120228         West  Maharashtra     Nashik   \n",
       "9821    114142599      M    20120303         West      Gujarat      Surat   \n",
       "\n",
       "      Recent_Date Last_region   Last_state  Last_city  Customer_Value  \\\n",
       "9817     20120712        West      Gujarat  Ahmedabad        7048.800   \n",
       "9818     20130312        East        Bihar      Patna       68863.601   \n",
       "9819     20130207        West      Gujarat      Surat        7036.001   \n",
       "9820     20120228        West  Maharashtra     Nashik        1259.000   \n",
       "9821     20130205        West      Gujarat      Surat       19136.096   \n",
       "\n",
       "      Buy_Times  Points_Earned  Points_Redeemed  \n",
       "9817          6          282.0              0.0  \n",
       "9818         19         3374.0              0.0  \n",
       "9819          6          635.0              0.0  \n",
       "9820          1           70.0              0.0  \n",
       "9821         13          986.0              0.0  "
      ]
     },
     "execution_count": 69,
     "metadata": {},
     "output_type": "execute_result"
    }
   ],
   "source": [
    "duplicate= customer[customer['Customer_ID'].duplicated()]\n",
    "duplicate.head()"
   ]
  },
  {
   "cell_type": "code",
   "execution_count": 70,
   "metadata": {},
   "outputs": [
    {
     "data": {
      "text/plain": [
       "(45, 14)"
      ]
     },
     "execution_count": 70,
     "metadata": {},
     "output_type": "execute_result"
    }
   ],
   "source": [
    "duplicate.shape"
   ]
  },
  {
   "cell_type": "code",
   "execution_count": 71,
   "metadata": {},
   "outputs": [
    {
     "data": {
      "text/html": [
       "<div>\n",
       "<style scoped>\n",
       "    .dataframe tbody tr th:only-of-type {\n",
       "        vertical-align: middle;\n",
       "    }\n",
       "\n",
       "    .dataframe tbody tr th {\n",
       "        vertical-align: top;\n",
       "    }\n",
       "\n",
       "    .dataframe thead th {\n",
       "        text-align: right;\n",
       "    }\n",
       "</style>\n",
       "<table border=\"1\" class=\"dataframe\">\n",
       "  <thead>\n",
       "    <tr style=\"text-align: right;\">\n",
       "      <th></th>\n",
       "      <th>Customer_ID</th>\n",
       "      <th>Gender</th>\n",
       "      <th>First_Date</th>\n",
       "      <th>First_region</th>\n",
       "      <th>First_state</th>\n",
       "      <th>First_city</th>\n",
       "      <th>Recent_Date</th>\n",
       "      <th>Last_region</th>\n",
       "      <th>Last_state</th>\n",
       "      <th>Last_city</th>\n",
       "      <th>Customer_Value</th>\n",
       "      <th>Buy_Times</th>\n",
       "      <th>Points_Earned</th>\n",
       "      <th>Points_Redeemed</th>\n",
       "    </tr>\n",
       "  </thead>\n",
       "  <tbody>\n",
       "    <tr>\n",
       "      <th>0</th>\n",
       "      <td>129609144</td>\n",
       "      <td>M</td>\n",
       "      <td>20130130</td>\n",
       "      <td>West</td>\n",
       "      <td>Gujarat</td>\n",
       "      <td>Surat</td>\n",
       "      <td>20130216</td>\n",
       "      <td>West</td>\n",
       "      <td>Gujarat</td>\n",
       "      <td>Surat</td>\n",
       "      <td>2032.0</td>\n",
       "      <td>2</td>\n",
       "      <td>200.0</td>\n",
       "      <td>0.0</td>\n",
       "    </tr>\n",
       "    <tr>\n",
       "      <th>1</th>\n",
       "      <td>129627580</td>\n",
       "      <td>M</td>\n",
       "      <td>20130129</td>\n",
       "      <td>North</td>\n",
       "      <td>Delhi</td>\n",
       "      <td>Delhi</td>\n",
       "      <td>20130129</td>\n",
       "      <td>North</td>\n",
       "      <td>Delhi</td>\n",
       "      <td>Delhi</td>\n",
       "      <td>1709.0</td>\n",
       "      <td>1</td>\n",
       "      <td>100.0</td>\n",
       "      <td>0.0</td>\n",
       "    </tr>\n",
       "    <tr>\n",
       "      <th>2</th>\n",
       "      <td>130363481</td>\n",
       "      <td>M</td>\n",
       "      <td>20130221</td>\n",
       "      <td>West</td>\n",
       "      <td>Gujarat</td>\n",
       "      <td>Surat</td>\n",
       "      <td>20130221</td>\n",
       "      <td>West</td>\n",
       "      <td>Gujarat</td>\n",
       "      <td>Surat</td>\n",
       "      <td>523.0</td>\n",
       "      <td>1</td>\n",
       "      <td>10.0</td>\n",
       "      <td>0.0</td>\n",
       "    </tr>\n",
       "    <tr>\n",
       "      <th>3</th>\n",
       "      <td>49817480</td>\n",
       "      <td>M</td>\n",
       "      <td>20130222</td>\n",
       "      <td>West</td>\n",
       "      <td>Maharashtra</td>\n",
       "      <td>Pimpri-Chinchwad</td>\n",
       "      <td>20130222</td>\n",
       "      <td>West</td>\n",
       "      <td>Maharashtra</td>\n",
       "      <td>Pimpri-Chinchwad</td>\n",
       "      <td>5132.0</td>\n",
       "      <td>1</td>\n",
       "      <td>170.0</td>\n",
       "      <td>0.0</td>\n",
       "    </tr>\n",
       "    <tr>\n",
       "      <th>4</th>\n",
       "      <td>126343829</td>\n",
       "      <td>F</td>\n",
       "      <td>20130301</td>\n",
       "      <td>North</td>\n",
       "      <td>Delhi</td>\n",
       "      <td>Delhi</td>\n",
       "      <td>20130301</td>\n",
       "      <td>North</td>\n",
       "      <td>Delhi</td>\n",
       "      <td>Delhi</td>\n",
       "      <td>1008.0</td>\n",
       "      <td>1</td>\n",
       "      <td>60.0</td>\n",
       "      <td>0.0</td>\n",
       "    </tr>\n",
       "  </tbody>\n",
       "</table>\n",
       "</div>"
      ],
      "text/plain": [
       "   Customer_ID Gender  First_Date First_region  First_state        First_city  \\\n",
       "0    129609144      M    20130130         West      Gujarat             Surat   \n",
       "1    129627580      M    20130129        North        Delhi             Delhi   \n",
       "2    130363481      M    20130221         West      Gujarat             Surat   \n",
       "3     49817480      M    20130222         West  Maharashtra  Pimpri-Chinchwad   \n",
       "4    126343829      F    20130301        North        Delhi             Delhi   \n",
       "\n",
       "   Recent_Date Last_region   Last_state         Last_city  Customer_Value  \\\n",
       "0     20130216        West      Gujarat             Surat          2032.0   \n",
       "1     20130129       North        Delhi             Delhi          1709.0   \n",
       "2     20130221        West      Gujarat             Surat           523.0   \n",
       "3     20130222        West  Maharashtra  Pimpri-Chinchwad          5132.0   \n",
       "4     20130301       North        Delhi             Delhi          1008.0   \n",
       "\n",
       "   Buy_Times  Points_Earned  Points_Redeemed  \n",
       "0          2          200.0              0.0  \n",
       "1          1          100.0              0.0  \n",
       "2          1           10.0              0.0  \n",
       "3          1          170.0              0.0  \n",
       "4          1           60.0              0.0  "
      ]
     },
     "execution_count": 71,
     "metadata": {},
     "output_type": "execute_result"
    }
   ],
   "source": [
    "unique= customer[customer['Customer_ID'].duplicated()==False]\n",
    "unique.head()"
   ]
  },
  {
   "cell_type": "code",
   "execution_count": 72,
   "metadata": {},
   "outputs": [
    {
     "data": {
      "text/plain": [
       "(9955, 14)"
      ]
     },
     "execution_count": 72,
     "metadata": {},
     "output_type": "execute_result"
    }
   ],
   "source": [
    "unique.shape"
   ]
  },
  {
   "cell_type": "markdown",
   "metadata": {},
   "source": [
    "5. Create data set with list of customers whose customer value greater than 10000."
   ]
  },
  {
   "cell_type": "code",
   "execution_count": 73,
   "metadata": {},
   "outputs": [
    {
     "data": {
      "text/plain": [
       "2723"
      ]
     },
     "execution_count": 73,
     "metadata": {},
     "output_type": "execute_result"
    }
   ],
   "source": [
    "customer10K= customer[customer['Customer_Value']> 10000]\n",
    "customer10K.shape[0]"
   ]
  },
  {
   "cell_type": "code",
   "execution_count": 74,
   "metadata": {},
   "outputs": [],
   "source": [
    "customer10K= customer[customer['Customer_Value']> 10000].reset_index(drop= True)"
   ]
  },
  {
   "cell_type": "code",
   "execution_count": 75,
   "metadata": {},
   "outputs": [
    {
     "data": {
      "text/html": [
       "<div>\n",
       "<style scoped>\n",
       "    .dataframe tbody tr th:only-of-type {\n",
       "        vertical-align: middle;\n",
       "    }\n",
       "\n",
       "    .dataframe tbody tr th {\n",
       "        vertical-align: top;\n",
       "    }\n",
       "\n",
       "    .dataframe thead th {\n",
       "        text-align: right;\n",
       "    }\n",
       "</style>\n",
       "<table border=\"1\" class=\"dataframe\">\n",
       "  <thead>\n",
       "    <tr style=\"text-align: right;\">\n",
       "      <th></th>\n",
       "      <th>Customer_ID</th>\n",
       "      <th>Gender</th>\n",
       "      <th>First_Date</th>\n",
       "      <th>First_region</th>\n",
       "      <th>First_state</th>\n",
       "      <th>First_city</th>\n",
       "      <th>Recent_Date</th>\n",
       "      <th>Last_region</th>\n",
       "      <th>Last_state</th>\n",
       "      <th>Last_city</th>\n",
       "      <th>Customer_Value</th>\n",
       "      <th>Buy_Times</th>\n",
       "      <th>Points_Earned</th>\n",
       "      <th>Points_Redeemed</th>\n",
       "    </tr>\n",
       "  </thead>\n",
       "  <tbody>\n",
       "    <tr>\n",
       "      <th>0</th>\n",
       "      <td>1610085</td>\n",
       "      <td>F</td>\n",
       "      <td>20120103</td>\n",
       "      <td>North</td>\n",
       "      <td>Delhi</td>\n",
       "      <td>Delhi</td>\n",
       "      <td>20121013</td>\n",
       "      <td>North</td>\n",
       "      <td>Delhi</td>\n",
       "      <td>Delhi</td>\n",
       "      <td>10380.199</td>\n",
       "      <td>6</td>\n",
       "      <td>1189.0</td>\n",
       "      <td>0.0</td>\n",
       "    </tr>\n",
       "    <tr>\n",
       "      <th>1</th>\n",
       "      <td>7518872</td>\n",
       "      <td>M</td>\n",
       "      <td>20120104</td>\n",
       "      <td>North</td>\n",
       "      <td>Uttar Pradesh</td>\n",
       "      <td>Kanpur</td>\n",
       "      <td>20130123</td>\n",
       "      <td>North</td>\n",
       "      <td>Uttar Pradesh</td>\n",
       "      <td>Kanpur</td>\n",
       "      <td>14587.000</td>\n",
       "      <td>6</td>\n",
       "      <td>865.0</td>\n",
       "      <td>0.0</td>\n",
       "    </tr>\n",
       "    <tr>\n",
       "      <th>2</th>\n",
       "      <td>63508964</td>\n",
       "      <td>M</td>\n",
       "      <td>20120106</td>\n",
       "      <td>West</td>\n",
       "      <td>Maharashtra</td>\n",
       "      <td>Pimpri-Chinchwad</td>\n",
       "      <td>20130222</td>\n",
       "      <td>West</td>\n",
       "      <td>Maharashtra</td>\n",
       "      <td>Pimpri-Chinchwad</td>\n",
       "      <td>145472.702</td>\n",
       "      <td>36</td>\n",
       "      <td>680.0</td>\n",
       "      <td>16635.0</td>\n",
       "    </tr>\n",
       "    <tr>\n",
       "      <th>3</th>\n",
       "      <td>23667984</td>\n",
       "      <td>F</td>\n",
       "      <td>20120107</td>\n",
       "      <td>West</td>\n",
       "      <td>Maharashtra</td>\n",
       "      <td>Nagpur</td>\n",
       "      <td>20130313</td>\n",
       "      <td>West</td>\n",
       "      <td>Maharashtra</td>\n",
       "      <td>Nagpur</td>\n",
       "      <td>19640.700</td>\n",
       "      <td>12</td>\n",
       "      <td>268.0</td>\n",
       "      <td>2549.0</td>\n",
       "    </tr>\n",
       "    <tr>\n",
       "      <th>4</th>\n",
       "      <td>84634600</td>\n",
       "      <td>M</td>\n",
       "      <td>20120108</td>\n",
       "      <td>South</td>\n",
       "      <td>Karnataka</td>\n",
       "      <td>Bangalore</td>\n",
       "      <td>20130307</td>\n",
       "      <td>South</td>\n",
       "      <td>Karnataka</td>\n",
       "      <td>Bangalore</td>\n",
       "      <td>32377.602</td>\n",
       "      <td>22</td>\n",
       "      <td>1029.0</td>\n",
       "      <td>1771.0</td>\n",
       "    </tr>\n",
       "  </tbody>\n",
       "</table>\n",
       "</div>"
      ],
      "text/plain": [
       "   Customer_ID Gender  First_Date First_region    First_state  \\\n",
       "0      1610085      F    20120103        North          Delhi   \n",
       "1      7518872      M    20120104        North  Uttar Pradesh   \n",
       "2     63508964      M    20120106         West    Maharashtra   \n",
       "3     23667984      F    20120107         West    Maharashtra   \n",
       "4     84634600      M    20120108        South      Karnataka   \n",
       "\n",
       "         First_city  Recent_Date Last_region     Last_state         Last_city  \\\n",
       "0             Delhi     20121013       North          Delhi             Delhi   \n",
       "1            Kanpur     20130123       North  Uttar Pradesh            Kanpur   \n",
       "2  Pimpri-Chinchwad     20130222        West    Maharashtra  Pimpri-Chinchwad   \n",
       "3            Nagpur     20130313        West    Maharashtra            Nagpur   \n",
       "4         Bangalore     20130307       South      Karnataka         Bangalore   \n",
       "\n",
       "   Customer_Value  Buy_Times  Points_Earned  Points_Redeemed  \n",
       "0       10380.199          6         1189.0              0.0  \n",
       "1       14587.000          6          865.0              0.0  \n",
       "2      145472.702         36          680.0          16635.0  \n",
       "3       19640.700         12          268.0           2549.0  \n",
       "4       32377.602         22         1029.0           1771.0  "
      ]
     },
     "execution_count": 75,
     "metadata": {},
     "output_type": "execute_result"
    }
   ],
   "source": [
    "customer10K.head()"
   ]
  },
  {
   "cell_type": "markdown",
   "metadata": {},
   "source": [
    "6. In customer table, create a new variable called “customer value segment” using customer value as follows. -\n",
    "- High Value Segment - > 25000\n",
    "- Medium Value Segment – Between 10000 and 25000\n",
    "- Low Value Segment – less than or equal to 10000"
   ]
  },
  {
   "cell_type": "code",
   "execution_count": 78,
   "metadata": {},
   "outputs": [],
   "source": [
    "from numpy import where as IF\n",
    "cust_val= customer['Customer_Value']\n",
    "customer['Customer_value_segment']= IF(cust_val > 25000, 'High Segment', IF((cust_val > 10000) & (cust_val < 25000), 'Medium Segment','Low Segment'))"
   ]
  },
  {
   "cell_type": "code",
   "execution_count": 79,
   "metadata": {},
   "outputs": [
    {
     "data": {
      "text/html": [
       "<div>\n",
       "<style scoped>\n",
       "    .dataframe tbody tr th:only-of-type {\n",
       "        vertical-align: middle;\n",
       "    }\n",
       "\n",
       "    .dataframe tbody tr th {\n",
       "        vertical-align: top;\n",
       "    }\n",
       "\n",
       "    .dataframe thead th {\n",
       "        text-align: right;\n",
       "    }\n",
       "</style>\n",
       "<table border=\"1\" class=\"dataframe\">\n",
       "  <thead>\n",
       "    <tr style=\"text-align: right;\">\n",
       "      <th></th>\n",
       "      <th>Customer_ID</th>\n",
       "      <th>Gender</th>\n",
       "      <th>First_Date</th>\n",
       "      <th>First_region</th>\n",
       "      <th>First_state</th>\n",
       "      <th>First_city</th>\n",
       "      <th>Recent_Date</th>\n",
       "      <th>Last_region</th>\n",
       "      <th>Last_state</th>\n",
       "      <th>Last_city</th>\n",
       "      <th>Customer_Value</th>\n",
       "      <th>Buy_Times</th>\n",
       "      <th>Points_Earned</th>\n",
       "      <th>Points_Redeemed</th>\n",
       "      <th>Customer_value_segment</th>\n",
       "    </tr>\n",
       "  </thead>\n",
       "  <tbody>\n",
       "    <tr>\n",
       "      <th>0</th>\n",
       "      <td>129609144</td>\n",
       "      <td>M</td>\n",
       "      <td>20130130</td>\n",
       "      <td>West</td>\n",
       "      <td>Gujarat</td>\n",
       "      <td>Surat</td>\n",
       "      <td>20130216</td>\n",
       "      <td>West</td>\n",
       "      <td>Gujarat</td>\n",
       "      <td>Surat</td>\n",
       "      <td>2032.0</td>\n",
       "      <td>2</td>\n",
       "      <td>200.0</td>\n",
       "      <td>0.0</td>\n",
       "      <td>Low Segment</td>\n",
       "    </tr>\n",
       "    <tr>\n",
       "      <th>1</th>\n",
       "      <td>129627580</td>\n",
       "      <td>M</td>\n",
       "      <td>20130129</td>\n",
       "      <td>North</td>\n",
       "      <td>Delhi</td>\n",
       "      <td>Delhi</td>\n",
       "      <td>20130129</td>\n",
       "      <td>North</td>\n",
       "      <td>Delhi</td>\n",
       "      <td>Delhi</td>\n",
       "      <td>1709.0</td>\n",
       "      <td>1</td>\n",
       "      <td>100.0</td>\n",
       "      <td>0.0</td>\n",
       "      <td>Low Segment</td>\n",
       "    </tr>\n",
       "    <tr>\n",
       "      <th>2</th>\n",
       "      <td>130363481</td>\n",
       "      <td>M</td>\n",
       "      <td>20130221</td>\n",
       "      <td>West</td>\n",
       "      <td>Gujarat</td>\n",
       "      <td>Surat</td>\n",
       "      <td>20130221</td>\n",
       "      <td>West</td>\n",
       "      <td>Gujarat</td>\n",
       "      <td>Surat</td>\n",
       "      <td>523.0</td>\n",
       "      <td>1</td>\n",
       "      <td>10.0</td>\n",
       "      <td>0.0</td>\n",
       "      <td>Low Segment</td>\n",
       "    </tr>\n",
       "    <tr>\n",
       "      <th>3</th>\n",
       "      <td>49817480</td>\n",
       "      <td>M</td>\n",
       "      <td>20130222</td>\n",
       "      <td>West</td>\n",
       "      <td>Maharashtra</td>\n",
       "      <td>Pimpri-Chinchwad</td>\n",
       "      <td>20130222</td>\n",
       "      <td>West</td>\n",
       "      <td>Maharashtra</td>\n",
       "      <td>Pimpri-Chinchwad</td>\n",
       "      <td>5132.0</td>\n",
       "      <td>1</td>\n",
       "      <td>170.0</td>\n",
       "      <td>0.0</td>\n",
       "      <td>Low Segment</td>\n",
       "    </tr>\n",
       "    <tr>\n",
       "      <th>4</th>\n",
       "      <td>126343829</td>\n",
       "      <td>F</td>\n",
       "      <td>20130301</td>\n",
       "      <td>North</td>\n",
       "      <td>Delhi</td>\n",
       "      <td>Delhi</td>\n",
       "      <td>20130301</td>\n",
       "      <td>North</td>\n",
       "      <td>Delhi</td>\n",
       "      <td>Delhi</td>\n",
       "      <td>1008.0</td>\n",
       "      <td>1</td>\n",
       "      <td>60.0</td>\n",
       "      <td>0.0</td>\n",
       "      <td>Low Segment</td>\n",
       "    </tr>\n",
       "  </tbody>\n",
       "</table>\n",
       "</div>"
      ],
      "text/plain": [
       "   Customer_ID Gender  First_Date First_region  First_state        First_city  \\\n",
       "0    129609144      M    20130130         West      Gujarat             Surat   \n",
       "1    129627580      M    20130129        North        Delhi             Delhi   \n",
       "2    130363481      M    20130221         West      Gujarat             Surat   \n",
       "3     49817480      M    20130222         West  Maharashtra  Pimpri-Chinchwad   \n",
       "4    126343829      F    20130301        North        Delhi             Delhi   \n",
       "\n",
       "   Recent_Date Last_region   Last_state         Last_city  Customer_Value  \\\n",
       "0     20130216        West      Gujarat             Surat          2032.0   \n",
       "1     20130129       North        Delhi             Delhi          1709.0   \n",
       "2     20130221        West      Gujarat             Surat           523.0   \n",
       "3     20130222        West  Maharashtra  Pimpri-Chinchwad          5132.0   \n",
       "4     20130301       North        Delhi             Delhi          1008.0   \n",
       "\n",
       "   Buy_Times  Points_Earned  Points_Redeemed Customer_value_segment  \n",
       "0          2          200.0              0.0            Low Segment  \n",
       "1          1          100.0              0.0            Low Segment  \n",
       "2          1           10.0              0.0            Low Segment  \n",
       "3          1          170.0              0.0            Low Segment  \n",
       "4          1           60.0              0.0            Low Segment  "
      ]
     },
     "execution_count": 79,
     "metadata": {},
     "output_type": "execute_result"
    }
   ],
   "source": [
    "customer.head()"
   ]
  },
  {
   "cell_type": "markdown",
   "metadata": {},
   "source": [
    "7. Create variables “average revenue per trip” and “balance points” in the customer data set."
   ]
  },
  {
   "cell_type": "code",
   "execution_count": 80,
   "metadata": {},
   "outputs": [],
   "source": [
    "customer = customer.assign(average_revenue_per_trip= customer['Customer_Value']/customer['Buy_Times'], Balance_Points=customer['Points_Earned'] - customer['Points_Redeemed'] )"
   ]
  },
  {
   "cell_type": "code",
   "execution_count": 81,
   "metadata": {},
   "outputs": [
    {
     "data": {
      "text/html": [
       "<div>\n",
       "<style scoped>\n",
       "    .dataframe tbody tr th:only-of-type {\n",
       "        vertical-align: middle;\n",
       "    }\n",
       "\n",
       "    .dataframe tbody tr th {\n",
       "        vertical-align: top;\n",
       "    }\n",
       "\n",
       "    .dataframe thead th {\n",
       "        text-align: right;\n",
       "    }\n",
       "</style>\n",
       "<table border=\"1\" class=\"dataframe\">\n",
       "  <thead>\n",
       "    <tr style=\"text-align: right;\">\n",
       "      <th></th>\n",
       "      <th>Customer_ID</th>\n",
       "      <th>Gender</th>\n",
       "      <th>First_Date</th>\n",
       "      <th>First_region</th>\n",
       "      <th>First_state</th>\n",
       "      <th>First_city</th>\n",
       "      <th>Recent_Date</th>\n",
       "      <th>Last_region</th>\n",
       "      <th>Last_state</th>\n",
       "      <th>Last_city</th>\n",
       "      <th>Customer_Value</th>\n",
       "      <th>Buy_Times</th>\n",
       "      <th>Points_Earned</th>\n",
       "      <th>Points_Redeemed</th>\n",
       "      <th>Customer_value_segment</th>\n",
       "      <th>average_revenue_per_trip</th>\n",
       "      <th>Balance_Points</th>\n",
       "    </tr>\n",
       "  </thead>\n",
       "  <tbody>\n",
       "    <tr>\n",
       "      <th>0</th>\n",
       "      <td>129609144</td>\n",
       "      <td>M</td>\n",
       "      <td>20130130</td>\n",
       "      <td>West</td>\n",
       "      <td>Gujarat</td>\n",
       "      <td>Surat</td>\n",
       "      <td>20130216</td>\n",
       "      <td>West</td>\n",
       "      <td>Gujarat</td>\n",
       "      <td>Surat</td>\n",
       "      <td>2032.0</td>\n",
       "      <td>2</td>\n",
       "      <td>200.0</td>\n",
       "      <td>0.0</td>\n",
       "      <td>Low Segment</td>\n",
       "      <td>1016.0</td>\n",
       "      <td>200.0</td>\n",
       "    </tr>\n",
       "    <tr>\n",
       "      <th>1</th>\n",
       "      <td>129627580</td>\n",
       "      <td>M</td>\n",
       "      <td>20130129</td>\n",
       "      <td>North</td>\n",
       "      <td>Delhi</td>\n",
       "      <td>Delhi</td>\n",
       "      <td>20130129</td>\n",
       "      <td>North</td>\n",
       "      <td>Delhi</td>\n",
       "      <td>Delhi</td>\n",
       "      <td>1709.0</td>\n",
       "      <td>1</td>\n",
       "      <td>100.0</td>\n",
       "      <td>0.0</td>\n",
       "      <td>Low Segment</td>\n",
       "      <td>1709.0</td>\n",
       "      <td>100.0</td>\n",
       "    </tr>\n",
       "    <tr>\n",
       "      <th>2</th>\n",
       "      <td>130363481</td>\n",
       "      <td>M</td>\n",
       "      <td>20130221</td>\n",
       "      <td>West</td>\n",
       "      <td>Gujarat</td>\n",
       "      <td>Surat</td>\n",
       "      <td>20130221</td>\n",
       "      <td>West</td>\n",
       "      <td>Gujarat</td>\n",
       "      <td>Surat</td>\n",
       "      <td>523.0</td>\n",
       "      <td>1</td>\n",
       "      <td>10.0</td>\n",
       "      <td>0.0</td>\n",
       "      <td>Low Segment</td>\n",
       "      <td>523.0</td>\n",
       "      <td>10.0</td>\n",
       "    </tr>\n",
       "    <tr>\n",
       "      <th>3</th>\n",
       "      <td>49817480</td>\n",
       "      <td>M</td>\n",
       "      <td>20130222</td>\n",
       "      <td>West</td>\n",
       "      <td>Maharashtra</td>\n",
       "      <td>Pimpri-Chinchwad</td>\n",
       "      <td>20130222</td>\n",
       "      <td>West</td>\n",
       "      <td>Maharashtra</td>\n",
       "      <td>Pimpri-Chinchwad</td>\n",
       "      <td>5132.0</td>\n",
       "      <td>1</td>\n",
       "      <td>170.0</td>\n",
       "      <td>0.0</td>\n",
       "      <td>Low Segment</td>\n",
       "      <td>5132.0</td>\n",
       "      <td>170.0</td>\n",
       "    </tr>\n",
       "    <tr>\n",
       "      <th>4</th>\n",
       "      <td>126343829</td>\n",
       "      <td>F</td>\n",
       "      <td>20130301</td>\n",
       "      <td>North</td>\n",
       "      <td>Delhi</td>\n",
       "      <td>Delhi</td>\n",
       "      <td>20130301</td>\n",
       "      <td>North</td>\n",
       "      <td>Delhi</td>\n",
       "      <td>Delhi</td>\n",
       "      <td>1008.0</td>\n",
       "      <td>1</td>\n",
       "      <td>60.0</td>\n",
       "      <td>0.0</td>\n",
       "      <td>Low Segment</td>\n",
       "      <td>1008.0</td>\n",
       "      <td>60.0</td>\n",
       "    </tr>\n",
       "  </tbody>\n",
       "</table>\n",
       "</div>"
      ],
      "text/plain": [
       "   Customer_ID Gender  First_Date First_region  First_state        First_city  \\\n",
       "0    129609144      M    20130130         West      Gujarat             Surat   \n",
       "1    129627580      M    20130129        North        Delhi             Delhi   \n",
       "2    130363481      M    20130221         West      Gujarat             Surat   \n",
       "3     49817480      M    20130222         West  Maharashtra  Pimpri-Chinchwad   \n",
       "4    126343829      F    20130301        North        Delhi             Delhi   \n",
       "\n",
       "   Recent_Date Last_region   Last_state         Last_city  Customer_Value  \\\n",
       "0     20130216        West      Gujarat             Surat          2032.0   \n",
       "1     20130129       North        Delhi             Delhi          1709.0   \n",
       "2     20130221        West      Gujarat             Surat           523.0   \n",
       "3     20130222        West  Maharashtra  Pimpri-Chinchwad          5132.0   \n",
       "4     20130301       North        Delhi             Delhi          1008.0   \n",
       "\n",
       "   Buy_Times  Points_Earned  Points_Redeemed Customer_value_segment  \\\n",
       "0          2          200.0              0.0            Low Segment   \n",
       "1          1          100.0              0.0            Low Segment   \n",
       "2          1           10.0              0.0            Low Segment   \n",
       "3          1          170.0              0.0            Low Segment   \n",
       "4          1           60.0              0.0            Low Segment   \n",
       "\n",
       "   average_revenue_per_trip  Balance_Points  \n",
       "0                    1016.0           200.0  \n",
       "1                    1709.0           100.0  \n",
       "2                     523.0            10.0  \n",
       "3                    5132.0           170.0  \n",
       "4                    1008.0            60.0  "
      ]
     },
     "execution_count": 81,
     "metadata": {},
     "output_type": "execute_result"
    }
   ],
   "source": [
    "customer.head()"
   ]
  },
  {
   "cell_type": "markdown",
   "metadata": {},
   "source": [
    "8. How many days between last purchase date and today?"
   ]
  },
  {
   "cell_type": "code",
   "execution_count": 82,
   "metadata": {},
   "outputs": [
    {
     "data": {
      "text/plain": [
       "0      2831 days\n",
       "1      2849 days\n",
       "2      2826 days\n",
       "3      2825 days\n",
       "4      2818 days\n",
       "          ...   \n",
       "9995   2925 days\n",
       "9996   2800 days\n",
       "9997   2831 days\n",
       "9998   3198 days\n",
       "9999   3196 days\n",
       "Name: Recent_Date, Length: 10000, dtype: timedelta64[ns]"
      ]
     },
     "execution_count": 82,
     "metadata": {},
     "output_type": "execute_result"
    }
   ],
   "source": [
    "import datetime as dt\n",
    "today = pd.to_datetime(dt.datetime.now().date())\n",
    "days_diff = today - pd.to_datetime(customer['Recent_Date'],format= '%Y%m%d')\n",
    "days_diff"
   ]
  },
  {
   "cell_type": "markdown",
   "metadata": {},
   "source": [
    "9. Calculate percentage of sales by each last city, state and region."
   ]
  },
  {
   "cell_type": "code",
   "execution_count": 83,
   "metadata": {},
   "outputs": [],
   "source": [
    "percent= customer[['Last_region', 'Last_state', 'Last_city', 'Customer_Value']]"
   ]
  },
  {
   "cell_type": "code",
   "execution_count": 84,
   "metadata": {},
   "outputs": [
    {
     "data": {
      "text/html": [
       "<div>\n",
       "<style scoped>\n",
       "    .dataframe tbody tr th:only-of-type {\n",
       "        vertical-align: middle;\n",
       "    }\n",
       "\n",
       "    .dataframe tbody tr th {\n",
       "        vertical-align: top;\n",
       "    }\n",
       "\n",
       "    .dataframe thead th {\n",
       "        text-align: right;\n",
       "    }\n",
       "</style>\n",
       "<table border=\"1\" class=\"dataframe\">\n",
       "  <thead>\n",
       "    <tr style=\"text-align: right;\">\n",
       "      <th></th>\n",
       "      <th>Last_region</th>\n",
       "      <th>Last_state</th>\n",
       "      <th>Last_city</th>\n",
       "      <th>Customer_Value</th>\n",
       "    </tr>\n",
       "  </thead>\n",
       "  <tbody>\n",
       "    <tr>\n",
       "      <th>0</th>\n",
       "      <td>West</td>\n",
       "      <td>Gujarat</td>\n",
       "      <td>Surat</td>\n",
       "      <td>2032.0</td>\n",
       "    </tr>\n",
       "    <tr>\n",
       "      <th>1</th>\n",
       "      <td>North</td>\n",
       "      <td>Delhi</td>\n",
       "      <td>Delhi</td>\n",
       "      <td>1709.0</td>\n",
       "    </tr>\n",
       "    <tr>\n",
       "      <th>2</th>\n",
       "      <td>West</td>\n",
       "      <td>Gujarat</td>\n",
       "      <td>Surat</td>\n",
       "      <td>523.0</td>\n",
       "    </tr>\n",
       "    <tr>\n",
       "      <th>3</th>\n",
       "      <td>West</td>\n",
       "      <td>Maharashtra</td>\n",
       "      <td>Pimpri-Chinchwad</td>\n",
       "      <td>5132.0</td>\n",
       "    </tr>\n",
       "    <tr>\n",
       "      <th>4</th>\n",
       "      <td>North</td>\n",
       "      <td>Delhi</td>\n",
       "      <td>Delhi</td>\n",
       "      <td>1008.0</td>\n",
       "    </tr>\n",
       "  </tbody>\n",
       "</table>\n",
       "</div>"
      ],
      "text/plain": [
       "  Last_region   Last_state         Last_city  Customer_Value\n",
       "0        West      Gujarat             Surat          2032.0\n",
       "1       North        Delhi             Delhi          1709.0\n",
       "2        West      Gujarat             Surat           523.0\n",
       "3        West  Maharashtra  Pimpri-Chinchwad          5132.0\n",
       "4       North        Delhi             Delhi          1008.0"
      ]
     },
     "execution_count": 84,
     "metadata": {},
     "output_type": "execute_result"
    }
   ],
   "source": [
    "percent.head()"
   ]
  },
  {
   "cell_type": "code",
   "execution_count": 85,
   "metadata": {},
   "outputs": [
    {
     "data": {
      "text/plain": [
       "Last_region\n",
       "East     0.077987\n",
       "North    0.277416\n",
       "South    0.154038\n",
       "West     0.490560\n",
       "Name: Customer_Value, dtype: float64"
      ]
     },
     "execution_count": 85,
     "metadata": {},
     "output_type": "execute_result"
    }
   ],
   "source": [
    "percent.groupby(['Last_region'])['Customer_Value'].sum()/percent['Customer_Value'].sum()"
   ]
  },
  {
   "cell_type": "code",
   "execution_count": 86,
   "metadata": {},
   "outputs": [
    {
     "data": {
      "text/plain": [
       "Last_region  Last_state       \n",
       "East         Assam                0.015573\n",
       "             Bihar                0.002606\n",
       "             Jharkhand            0.002456\n",
       "             Tripura              0.000188\n",
       "             West Bengal          0.057162\n",
       "North        Chandigarh           0.000328\n",
       "             Chhattisgarh         0.000053\n",
       "             Delhi                0.085912\n",
       "             Haryana              0.001415\n",
       "             Jammu and Kashmir    0.000049\n",
       "             Madhya Pradesh       0.053475\n",
       "             Orissa               0.001566\n",
       "             Punjab               0.000088\n",
       "             Rajasthan            0.031332\n",
       "             Uttar Pradesh        0.102959\n",
       "             Uttarakhand          0.000238\n",
       "South        Andhra Pradesh       0.014727\n",
       "             Karnataka            0.053301\n",
       "             Kerala               0.001009\n",
       "             Puducherry           0.000224\n",
       "             Tamil Nadu           0.046566\n",
       "             Telangana            0.038211\n",
       "West         Gujarat              0.375800\n",
       "             Maharashtra          0.114760\n",
       "Name: Customer_Value, dtype: float64"
      ]
     },
     "execution_count": 86,
     "metadata": {},
     "output_type": "execute_result"
    }
   ],
   "source": [
    "percent.groupby(['Last_region', 'Last_state'])['Customer_Value'].sum()/percent['Customer_Value'].sum()"
   ]
  },
  {
   "cell_type": "code",
   "execution_count": 87,
   "metadata": {},
   "outputs": [
    {
     "data": {
      "text/plain": [
       "Last_region  Last_state   Last_city       \n",
       "East         Assam        Guwahati            0.015573\n",
       "             Bihar        Begusarai           0.000206\n",
       "                          Bhagalpur           0.000022\n",
       "                          Katihar             0.000469\n",
       "                          Patna               0.001851\n",
       "                                                ...   \n",
       "West         Maharashtra  Navi Mumbai         0.000106\n",
       "                          Pimpri-Chinchwad    0.033146\n",
       "                          Thane               0.002372\n",
       "                          Ulhasnagar          0.000057\n",
       "                          Vasai-Virar         0.000860\n",
       "Name: Customer_Value, Length: 116, dtype: float64"
      ]
     },
     "execution_count": 87,
     "metadata": {},
     "output_type": "execute_result"
    }
   ],
   "source": [
    "percent.groupby(['Last_region', 'Last_state', 'Last_city'])['Customer_Value'].sum()/percent['Customer_Value'].sum()"
   ]
  },
  {
   "cell_type": "markdown",
   "metadata": {},
   "source": [
    "10. What is the count of customers, average number of purchases and average purchase transaction value by last state and city."
   ]
  },
  {
   "cell_type": "code",
   "execution_count": 88,
   "metadata": {},
   "outputs": [
    {
     "data": {
      "text/plain": [
       "Last_state      Last_city      \n",
       "Andhra Pradesh  Guntur               1\n",
       "                Kurnool              1\n",
       "                Tirupati             2\n",
       "                Vijayawada          20\n",
       "                Visakhapatnam      117\n",
       "                                  ... \n",
       "West Bengal     Kolkata            543\n",
       "                North Dumdum         3\n",
       "                Panihati             1\n",
       "                Rajpur Sonarpur      2\n",
       "                Siliguri             1\n",
       "Name: Customer_ID, Length: 116, dtype: int64"
      ]
     },
     "execution_count": 88,
     "metadata": {},
     "output_type": "execute_result"
    }
   ],
   "source": [
    "customer.groupby(['Last_state', 'Last_city'])['Customer_ID'].count()"
   ]
  },
  {
   "cell_type": "code",
   "execution_count": 89,
   "metadata": {},
   "outputs": [
    {
     "data": {
      "text/plain": [
       "Last_state      Last_city      \n",
       "Andhra Pradesh  Guntur               1\n",
       "                Kurnool              1\n",
       "                Tirupati             2\n",
       "                Vijayawada          20\n",
       "                Visakhapatnam      117\n",
       "                                  ... \n",
       "West Bengal     Kolkata            543\n",
       "                North Dumdum         3\n",
       "                Panihati             1\n",
       "                Rajpur Sonarpur      2\n",
       "                Siliguri             1\n",
       "Name: Buy_Times, Length: 116, dtype: int64"
      ]
     },
     "execution_count": 89,
     "metadata": {},
     "output_type": "execute_result"
    }
   ],
   "source": [
    "customer.groupby(['Last_state', 'Last_city'])['Buy_Times'].count()"
   ]
  },
  {
   "cell_type": "code",
   "execution_count": 90,
   "metadata": {},
   "outputs": [
    {
     "data": {
      "text/plain": [
       "Last_state      Last_city      \n",
       "Andhra Pradesh  Guntur                0.000000\n",
       "                Kurnool             778.374750\n",
       "                Tirupati           1828.333333\n",
       "                Vijayawada         1981.191171\n",
       "                Visakhapatnam      2383.914601\n",
       "                                      ...     \n",
       "West Bengal     Kolkata            2107.631101\n",
       "                North Dumdum       3307.377778\n",
       "                Panihati            989.000429\n",
       "                Rajpur Sonarpur     541.500000\n",
       "                Siliguri           2594.750000\n",
       "Name: average_revenue_per_trip, Length: 116, dtype: float64"
      ]
     },
     "execution_count": 90,
     "metadata": {},
     "output_type": "execute_result"
    }
   ],
   "source": [
    "customer.groupby(['Last_state', 'Last_city'])['average_revenue_per_trip'].mean()"
   ]
  }
 ],
 "metadata": {
  "kernelspec": {
   "display_name": "Python 3",
   "language": "python",
   "name": "python3"
  },
  "language_info": {
   "codemirror_mode": {
    "name": "ipython",
    "version": 3
   },
   "file_extension": ".py",
   "mimetype": "text/x-python",
   "name": "python",
   "nbconvert_exporter": "python",
   "pygments_lexer": "ipython3",
   "version": "3.7.6"
  }
 },
 "nbformat": 4,
 "nbformat_minor": 4
}
